{
 "cells": [
  {
   "cell_type": "markdown",
   "metadata": {},
   "source": [
    "# Assignment 6\n",
    "## Python Basics\n",
    "\n",
    "**1. What are escape characters, and how do you use them?**\n",
    "\n",
    "following are escape characters :\n",
    "\n",
    "\\' = print single quote, \\\\ = prints backslash, \\n = new line, \\r = carriage return, \\t = tab, \\b = backspace, \n",
    "\n",
    "\n"
   ]
  },
  {
   "cell_type": "code",
   "execution_count": 9,
   "metadata": {},
   "outputs": [
    {
     "name": "stdout",
     "output_type": "stream",
     "text": [
      " Omkar's new bike is cool. \n",
      " it has 350cc with 6 speed gearbox \n",
      " Yes\t it does.\n"
     ]
    }
   ],
   "source": [
    "print(' Omkar\\'s new \\b bike is cool. \\n it has 350cc with 6 speed gearbox \\n Yes\\t it does.')"
   ]
  },
  {
   "cell_type": "markdown",
   "metadata": {},
   "source": [
    "**2. What do the escape characters n and t stand for?**\n",
    "\n",
    "In '\\n' n stands for new line.\n",
    "\n",
    "In '\\t' t stands for Tab. "
   ]
  },
  {
   "cell_type": "markdown",
   "metadata": {},
   "source": [
    "**3. What is the way to include backslash characters in a string?**\n",
    "\n",
    "To use \\ in string we use double backslash '\\\\'"
   ]
  },
  {
   "cell_type": "code",
   "execution_count": 10,
   "metadata": {},
   "outputs": [
    {
     "name": "stdout",
     "output_type": "stream",
     "text": [
      " 3\\4\\5\\6\\7\\8\n"
     ]
    }
   ],
   "source": [
    "print(\" 3\\\\4\\\\5\\\\6\\\\7\\\\8\")"
   ]
  },
  {
   "cell_type": "markdown",
   "metadata": {},
   "source": [
    "**4. The string \"Howl's Moving Castle\" is a correct value. Why isn't the single quote character in the word Howl's not escaped a problem?**\n",
    "\n",
    "In \"Howl's Moving Castle\" double quotes are used so single quote is considered as character in string. If string is open with double quotes \" code will search for closing double quote \" in string and treat single quote as character in string."
   ]
  },
  {
   "cell_type": "markdown",
   "metadata": {},
   "source": [
    "**5. How do you write a string of newlines if you don't want to use the n character?**\n",
    "\n",
    "We can use triple single quotes ''' to write string."
   ]
  },
  {
   "cell_type": "code",
   "execution_count": 12,
   "metadata": {},
   "outputs": [
    {
     "name": "stdout",
     "output_type": "stream",
     "text": [
      " Hi I am Omkar \n",
      "I am currently working on my Python skills\n",
      "You can too by attending courses on iNeuron\n"
     ]
    }
   ],
   "source": [
    "print(''' Hi I am Omkar \n",
    "I am currently working on my Python skills\n",
    "You can too by attending courses on iNeuron''')"
   ]
  },
  {
   "cell_type": "markdown",
   "metadata": {},
   "source": [
    "**6. What are the values of the given expressions?**\n",
    "\n",
    "**'Hello, world!'[1]** = 'e'\n",
    "\n",
    "**'Hello, world!'[0:5]** = 'Hello'\n",
    "\n",
    "**'Hello, world!'[:5]** = 'Hello'\n",
    "\n",
    "**'Hello, world!'[3:]** = 'lo, world'\n"
   ]
  },
  {
   "cell_type": "markdown",
   "metadata": {},
   "source": [
    "**7. What are the values of the following expressions?**\n",
    "\n",
    "**'Hello'.upper()** = 'HELLO'\n",
    "\n",
    "**'Hello'.upper().isupper()** = True\n",
    "\n",
    "**'Hello'.upper().lower()** = 'hello'\n"
   ]
  },
  {
   "cell_type": "markdown",
   "metadata": {},
   "source": [
    "**8. What are the values of the following expressions?**\n",
    "\n",
    "**'Remember, remember, the fifth of July.'.split()**\n",
    "\n",
    "**'-'.join('There can only one.'.split())**\n"
   ]
  },
  {
   "cell_type": "code",
   "execution_count": 20,
   "metadata": {},
   "outputs": [
    {
     "data": {
      "text/plain": [
       "['Remember,', 'remember,', 'the', 'fifth', 'of', 'July.']"
      ]
     },
     "execution_count": 20,
     "metadata": {},
     "output_type": "execute_result"
    }
   ],
   "source": [
    "'Remember, remember, the fifth of July.'.split()"
   ]
  },
  {
   "cell_type": "code",
   "execution_count": 21,
   "metadata": {},
   "outputs": [
    {
     "data": {
      "text/plain": [
       "'There-can-only-one.'"
      ]
     },
     "execution_count": 21,
     "metadata": {},
     "output_type": "execute_result"
    }
   ],
   "source": [
    "'-'.join('There can only one.'.split())"
   ]
  },
  {
   "cell_type": "markdown",
   "metadata": {},
   "source": [
    "**9. What are the methods for right-justifying, left-justifying, and centering a string?**\n",
    "\n",
    "rjust = for right justifying.\n",
    "\n",
    "ljust = for left justifying.\n",
    "\n",
    "center = for centre justifying."
   ]
  },
  {
   "cell_type": "code",
   "execution_count": 27,
   "metadata": {},
   "outputs": [
    {
     "name": "stdout",
     "output_type": "stream",
     "text": [
      "My name is Omkar                        \n",
      "            My name is Omkar            \n",
      "                        My name is Omkar\n"
     ]
    }
   ],
   "source": [
    "str = \"My name is Omkar\"\n",
    "print(str.ljust(40,))\n",
    "print(str.center(40,))\n",
    "print(str.rjust(40,))"
   ]
  },
  {
   "cell_type": "markdown",
   "metadata": {},
   "source": [
    "**10. What is the best way to remove whitespace characters from the start or end?**"
   ]
  },
  {
   "cell_type": "code",
   "execution_count": 29,
   "metadata": {},
   "outputs": [
    {
     "data": {
      "text/plain": [
       "'MynameisOmkar'"
      ]
     },
     "execution_count": 29,
     "metadata": {},
     "output_type": "execute_result"
    }
   ],
   "source": [
    "str = \"My name is Omkar\"\n",
    "\"\".join(str.split())\n"
   ]
  }
 ],
 "metadata": {
  "interpreter": {
   "hash": "55cdaa35f3bf328455cc90222d006bc0ecee02538e8f35de15acd39e8589c932"
  },
  "kernelspec": {
   "display_name": "Python 3.8.8 64-bit ('base': conda)",
   "language": "python",
   "name": "python3"
  },
  "language_info": {
   "codemirror_mode": {
    "name": "ipython",
    "version": 3
   },
   "file_extension": ".py",
   "mimetype": "text/x-python",
   "name": "python",
   "nbconvert_exporter": "python",
   "pygments_lexer": "ipython3",
   "version": "3.9.5"
  },
  "orig_nbformat": 4
 },
 "nbformat": 4,
 "nbformat_minor": 2
}
