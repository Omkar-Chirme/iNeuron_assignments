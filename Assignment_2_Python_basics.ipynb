{
 "cells": [
  {
   "cell_type": "markdown",
   "metadata": {},
   "source": [
    "# Assignment_2\n",
    "## Python_Basics\n",
    "\n",
    "**1. What are the two values of the Boolean data type? How do you write them?**\n",
    "\n",
    "\"False\" and \"True\"\n",
    "\n",
    "**2. What are the three different types of Boolean operators?**\n",
    "\n",
    "AND, OR, NOT\n",
    "\n",
    "**3. Make a list of each Boolean operator's truth tables (i.e. every possible combination of Boolean values for the operator and what it evaluate ).**\n",
    "\n",
    "A       B      A AND B   A OR B   NOT A\n",
    "\n",
    "False   False   False   False     True    \n",
    "\n",
    "False   True    False   True      True\n",
    "\n",
    "True    False   False   True      False\n",
    "\n",
    "True    True    True    True      False\n",
    "\n",
    "\n",
    "**4. What are the values of the following expressions?**\n",
    "\n",
    "(5 > 4) and (3 == 5) :- **False**\n",
    "\n",
    "not (5 > 4) :- **False**\n",
    "\n",
    "(5 > 4) or (3 == 5) :- **True**\n",
    "\n",
    "not ((5 > 4) or (3 == 5)) :- **True**\n",
    "\n",
    "(True and True) and (True == False) :- **False**\n",
    "\n",
    "(not False) or (not True) :- **True**\n",
    "\n",
    "\n",
    "**5. What are the six comparison operators?**\n",
    "\n",
    "less than(<), greater than (>), less than equal to (<=), greater than equal to (>=), equal to (==), Not equal to (!=).\n",
    "\n",
    "**6. How do you tell the difference between the equal to and assignment operators?Describe a condition and when you would use one.**\n",
    "\n",
    "'=' is a assignment operator which assigns some value to a variable, where as '==' says that the value of variable is equal to the value given. Basically it compare the value between RHS and LHS and decide if they are equal or not.\n",
    "\n",
    "a=9 #here value 9 is assign to variable a\n",
    "a==9 #here value of 'a' is compared with 9 to see if they are equal.\n",
    "\n",
    "\n",
    "**7. Identify the three blocks in this code:**\n",
    "\n",
    "spam = 0\n",
    "if spam == 10:\n",
    "print('eggs')\n",
    "if spam > 5:\n",
    "print('bacon')\n",
    "else:\n",
    "print('ham')\n",
    "print('spam')\n",
    "print('spam')\n",
    "\n",
    "*Three print statements after \"else\" condition is a block in this code.*\n",
    "\n",
    "\n",
    "**8. Write code that prints Hello if 1 is stored in spam, prints Howdy if 2 is stored in spam, and prints Greetings! if anything else is stored in spam.**\n",
    "\n",
    "spam = int(input(\"Enter any single digit number: \"))\n",
    "if i in spam == 1:\n",
    "    print(\"Hello\")\n",
    "elif i in spam == 2:\n",
    "    print(\"Howdy\")\n",
    "else:\n",
    "    print(\"Greetings!\")\n",
    "\n",
    "\n",
    "\n",
    "**9. If your programme is stuck in an endless loop, what keys you’ll press?**\n",
    "\n",
    "Press Ctrl + C\n",
    "\n",
    "**10. How can you tell the difference between break and continue?**\n",
    "\n",
    "In \"break\" it runs the  code till \"break\" statement and then stops or terminate there itself. \n",
    "In \"continous\" it runs whole code but does not give output for code where \"continous\" statement is used. \n",
    "\n",
    "**11. In a for loop, what is the difference between range(10), range(0, 10), and range(0, 10, 1)?**\n",
    "\n",
    "range(10) range(0,10) and range(0,10,1) are same where range starts from 0 till 10 but excluding 10, and with step size of 1.\n",
    "If the steps was 2 then it would have skipped 1 value everytime between 0 to 10.\n",
    "\n",
    "\n",
    "**12. Write a short program that prints the numbers 1 to 10 using a for loop. Then write an equivalent program that prints the numbers 1 to 10 using a while loop.**\n",
    "\n",
    "\n",
    "\n",
    "**13. If you had a function named bacon() inside a module named spam, how would you call it after importing spam?**\n",
    "\n",
    "from spam import bacon\n"
   ]
  },
  {
   "cell_type": "code",
   "execution_count": 17,
   "metadata": {},
   "outputs": [
    {
     "name": "stdout",
     "output_type": "stream",
     "text": [
      "Hello\n"
     ]
    }
   ],
   "source": [
    "spam = int(input(\"Enter any single digit number: \"))\n",
    "if  spam == 1:\n",
    "    print(\"Hello\")\n",
    "elif  spam == 2:\n",
    "    print(\"Howdy\")\n",
    "else:\n",
    "    print(\"Greetings!\")"
   ]
  },
  {
   "cell_type": "code",
   "execution_count": 7,
   "metadata": {},
   "outputs": [
    {
     "name": "stdout",
     "output_type": "stream",
     "text": [
      "1\n",
      "2\n",
      "3\n",
      "4\n",
      "5\n",
      "6\n",
      "7\n",
      "8\n",
      "9\n",
      "10\n"
     ]
    }
   ],
   "source": [
    "for i in range(1,11):\n",
    "    print(i)\n"
   ]
  },
  {
   "cell_type": "code",
   "execution_count": 14,
   "metadata": {},
   "outputs": [
    {
     "name": "stdout",
     "output_type": "stream",
     "text": [
      "1\n",
      "2\n",
      "3\n",
      "4\n",
      "5\n",
      "6\n",
      "7\n",
      "8\n",
      "9\n",
      "10\n"
     ]
    }
   ],
   "source": [
    "a=1\n",
    "while a<=10:\n",
    "    print(a)\n",
    "    a+=1"
   ]
  },
  {
   "cell_type": "markdown",
   "metadata": {},
   "source": []
  },
  {
   "cell_type": "markdown",
   "metadata": {},
   "source": []
  }
 ],
 "metadata": {
  "interpreter": {
   "hash": "55cdaa35f3bf328455cc90222d006bc0ecee02538e8f35de15acd39e8589c932"
  },
  "kernelspec": {
   "display_name": "Python 3.8.8 64-bit ('base': conda)",
   "language": "python",
   "name": "python3"
  },
  "language_info": {
   "codemirror_mode": {
    "name": "ipython",
    "version": 3
   },
   "file_extension": ".py",
   "mimetype": "text/x-python",
   "name": "python",
   "nbconvert_exporter": "python",
   "pygments_lexer": "ipython3",
   "version": "3.8.8"
  },
  "orig_nbformat": 4
 },
 "nbformat": 4,
 "nbformat_minor": 2
}
